{
 "cells": [
  {
   "cell_type": "markdown",
   "id": "e11872c2",
   "metadata": {},
   "source": [
    "#introduction\n",
    "\n",
    "so we start with that what is the meaning of node.js \n",
    "\n",
    "--node.js is a javascript runtime environment that allows you to run javascript code outside of a browser.\n",
    "\n",
    "REPL--we also have the conept of REPL in node.js which is read-eval-print loop which is used to interact with the node.js environment. through which \n",
    "we can run the javascript code in the node.js environment. in cmd we can use the command node to run the javascript code in the node.js environment.\n",
    "\n",
    "Process--the procecss in node.js is the current process with the help of which we can interact with the node.js environment. we also have a process.argv array which contains the arguments passed to the node.js process. we can see it in the code filenamed process.js.\n",
    "\n",
    "Export-- we also have the concept of exporting a function, object, or variable from one module and importing it into another module. this is done using the require() function. we can see it in the code filenamed export.js.\n",
    "\n",
    "-->we can also export any function, object and andy variable form any other directory for that in that directory we will create a file named iondex.js in which all the details are going to be there regarding the function, object and variable. and then we will export it using the module.exports property. and then we will import it in the other file using the require() function.\n",
    "--ex: we have created a directory named fruits and we have required it in a export.js."
   ]
  },
  {
   "cell_type": "markdown",
   "id": "fcdc8e3e",
   "metadata": {},
   "source": [
    "#NPM\n",
    "--NPM (Node Package Manager) is the official package manager for Node.js. It's a key tool in JavaScript development used to find, build, manage, and share code packages (also known as modules or libraries). Think of it as a central hub where developers can easily access and integrate pre-written code into their projects."
   ]
  },
  {
   "cell_type": "markdown",
   "id": "e328ca56",
   "metadata": {},
   "source": [
    "#package.json\n",
    "--it is a file that contains metadata about the project it can be created by npm init command and it includes all the dependies and technologies that we are going to use in our project."
   ]
  }
 ],
 "metadata": {
  "language_info": {
   "name": "python"
  }
 },
 "nbformat": 4,
 "nbformat_minor": 5
}
