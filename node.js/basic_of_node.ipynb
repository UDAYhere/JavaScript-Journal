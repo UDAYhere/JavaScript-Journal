{
 "cells": [
  {
   "cell_type": "markdown",
   "id": "595f5075",
   "metadata": {},
   "source": [
    "# introduction:\n",
    "\n",
    "NodeJs is javascript runtime environment\n",
    "->is is used for server side programming\n",
    "\n",
    "->Node.js is not a language, library or a framework is its a runtime environment\n",
    "\n",
    "->it is used to build backend and also it is based on javascript\n",
    "\n",
    "->NodeJs gives a runtime environement that help javascript to run outside the browser. "
   ]
  },
  {
   "cell_type": "markdown",
   "id": "2b2f796f",
   "metadata": {},
   "source": [
    "# about terminal\n",
    "we can run the javascript code in npm by going to its directory by typing node and the the file name\n",
    "ex:-node app.js \n",
    "\n",
    "we can also run thejavascript code directly into our terminal by going in node interface \n",
    "\n",
    "-->node\n",
    "-->console.log(\"hell0 world\")\n",
    "-->console.log(2+5)\n",
    "\n",
    "it will run without any error "
   ]
  }
 ],
 "metadata": {
  "language_info": {
   "name": "python"
  }
 },
 "nbformat": 4,
 "nbformat_minor": 5
}
