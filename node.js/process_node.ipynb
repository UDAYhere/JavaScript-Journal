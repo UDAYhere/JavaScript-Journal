{
 "cells": [
  {
   "cell_type": "markdown",
   "id": "9b76e3db",
   "metadata": {},
   "source": [
    "# what is process\n",
    "-the process is the object that provides the information, about, and the control over the cureent process in nodejs\n",
    "\n",
    "# process.argv\n",
    "-this statements retruns the array contaning the command line arguments passed when node js process was launched."
   ]
  },
  {
   "cell_type": "markdown",
   "id": "d34561e7",
   "metadata": {},
   "source": [
    "# module.export && requires()\n",
    "--module.export returns the object\n",
    "~In NodeJS, you can share code from one file so that it can be used in another file. This is done by using module.exports to export the code.\n",
    "\n",
    "--requires is a built in function that include the exteranl module that exists in seprate file. "
   ]
  }
 ],
 "metadata": {
  "language_info": {
   "name": "python"
  }
 },
 "nbformat": 4,
 "nbformat_minor": 5
}
