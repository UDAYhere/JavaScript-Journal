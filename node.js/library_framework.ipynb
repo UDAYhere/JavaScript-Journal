{
 "cells": [
  {
   "cell_type": "markdown",
   "id": "d6cf964e",
   "metadata": {},
   "source": [
    "# library\n",
    "A library is a collection of prewritten code that can be used to perform specific tasks\n",
    "EX:- axios"
   ]
  },
  {
   "cell_type": "markdown",
   "id": "c5be8048",
   "metadata": {},
   "source": [
    "# framework\n",
    "A framework is a set of pre-written code that provides a structure for developing software applications.\n",
    "EX:- express"
   ]
  },
  {
   "cell_type": "markdown",
   "id": "46decac1",
   "metadata": {},
   "source": [
    "# express (server-side-programing)\n",
    "A node.js web application framework that helps us to make web applications\n",
    "It is used for server side programming"
   ]
  }
 ],
 "metadata": {
  "language_info": {
   "name": "python"
  }
 },
 "nbformat": 4,
 "nbformat_minor": 5
}
